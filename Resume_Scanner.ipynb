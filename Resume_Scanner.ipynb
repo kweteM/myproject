{
  "nbformat": 4,
  "nbformat_minor": 0,
  "metadata": {
    "colab": {
      "provenance": [],
      "authorship_tag": "ABX9TyNLXsQxW4obv7WRuNbHmoHf",
      "include_colab_link": true
    },
    "kernelspec": {
      "name": "python3",
      "display_name": "Python 3"
    },
    "language_info": {
      "name": "python"
    }
  },
  "cells": [
    {
      "cell_type": "markdown",
      "metadata": {
        "id": "view-in-github",
        "colab_type": "text"
      },
      "source": [
        "<a href=\"https://colab.research.google.com/github/kweteM/myproject/blob/master/Resume_Scanner.ipynb\" target=\"_parent\"><img src=\"https://colab.research.google.com/assets/colab-badge.svg\" alt=\"Open In Colab\"/></a>"
      ]
    },
    {
      "cell_type": "markdown",
      "source": [
        "Installing PyMuPDF to be able to use fitz module"
      ],
      "metadata": {
        "id": "kBaVp2T97AeW"
      }
    },
    {
      "cell_type": "code",
      "execution_count": 1,
      "metadata": {
        "colab": {
          "base_uri": "https://localhost:8080/"
        },
        "id": "tn8tdYECqFqZ",
        "outputId": "e0846c4b-ef08-4802-bfb7-4522094f365f"
      },
      "outputs": [
        {
          "output_type": "stream",
          "name": "stdout",
          "text": [
            "Collecting PyMuPDF\n",
            "  Downloading PyMuPDF-1.23.26-cp310-none-manylinux2014_x86_64.whl (4.4 MB)\n",
            "\u001b[2K     \u001b[90m━━━━━━━━━━━━━━━━━━━━━━━━━━━━━━━━━━━━━━━━\u001b[0m \u001b[32m4.4/4.4 MB\u001b[0m \u001b[31m11.7 MB/s\u001b[0m eta \u001b[36m0:00:00\u001b[0m\n",
            "\u001b[?25hCollecting PyMuPDFb==1.23.22 (from PyMuPDF)\n",
            "  Downloading PyMuPDFb-1.23.22-py3-none-manylinux2014_x86_64.manylinux_2_17_x86_64.whl (30.6 MB)\n",
            "\u001b[2K     \u001b[90m━━━━━━━━━━━━━━━━━━━━━━━━━━━━━━━━━━━━━━━━\u001b[0m \u001b[32m30.6/30.6 MB\u001b[0m \u001b[31m37.6 MB/s\u001b[0m eta \u001b[36m0:00:00\u001b[0m\n",
            "\u001b[?25hInstalling collected packages: PyMuPDFb, PyMuPDF\n",
            "Successfully installed PyMuPDF-1.23.26 PyMuPDFb-1.23.22\n"
          ]
        }
      ],
      "source": [
        "!pip install PyMuPDF"
      ]
    },
    {
      "cell_type": "markdown",
      "source": [
        "**Importing Required Libraries**"
      ],
      "metadata": {
        "id": "sxMi1tfQ7MM_"
      }
    },
    {
      "cell_type": "code",
      "source": [
        "import fitz\n",
        "import re\n",
        "import spacy\n",
        "from sklearn.feature_extraction.text import TfidfVectorizer\n",
        "from sklearn.metrics.pairwise import cosine_similarity\n",
        "import joblib\n",
        "import matplotlib.pyplot as plt"
      ],
      "metadata": {
        "id": "YsR98TagqLDj"
      },
      "execution_count": 2,
      "outputs": []
    },
    {
      "cell_type": "markdown",
      "source": [
        "**Creating a function to extract text from PDF file**"
      ],
      "metadata": {
        "id": "lCu2XHrN7i5U"
      }
    },
    {
      "cell_type": "code",
      "source": [
        "def extract_text_from_pdf(pdf_path):\n",
        "    text = ''\n",
        "    with fitz.open(pdf_path) as doc:\n",
        "        for page_num in range(doc.page_count):\n",
        "            page = doc.load_page(page_num)\n",
        "            text += page.get_text()\n",
        "    return text"
      ],
      "metadata": {
        "id": "llDkmNDqqcqV"
      },
      "execution_count": 3,
      "outputs": []
    },
    {
      "cell_type": "markdown",
      "source": [
        "**Creating a function to clean text**"
      ],
      "metadata": {
        "id": "zBrV5NJd74IA"
      }
    },
    {
      "cell_type": "code",
      "source": [
        "def clean_text(text):\n",
        "    # Remove non-alphanumeric characters and extra whitespaces\n",
        "    cleaned_text = re.sub(r'[^a-zA-Z0-9\\s]', '', text)\n",
        "    cleaned_text = re.sub(r'\\s+', ' ', cleaned_text).strip()\n",
        "    return cleaned_text"
      ],
      "metadata": {
        "id": "qva27Bv4rIki"
      },
      "execution_count": 4,
      "outputs": []
    },
    {
      "cell_type": "markdown",
      "source": [
        "**Loading spaCy model**"
      ],
      "metadata": {
        "id": "qY4y8-nb8MlP"
      }
    },
    {
      "cell_type": "code",
      "source": [
        "nlp = spacy.load(\"en_core_web_sm\")"
      ],
      "metadata": {
        "id": "4hPTU4kUrMv4"
      },
      "execution_count": 5,
      "outputs": []
    },
    {
      "cell_type": "markdown",
      "source": [
        "**Creating a function to tokenize and lemmatize text**"
      ],
      "metadata": {
        "id": "jw0PpKZi8iO0"
      }
    },
    {
      "cell_type": "code",
      "source": [
        "\n",
        "def tokenize_and_lemmatize(text):\n",
        "    doc = nlp(text)\n",
        "    tokens = [token.lemma_ for token in doc if not token.is_stop]\n",
        "    return tokens"
      ],
      "metadata": {
        "id": "VQqybm2Pr-Rj"
      },
      "execution_count": 6,
      "outputs": []
    },
    {
      "cell_type": "markdown",
      "source": [
        "**Creating a function to calculate similarity between resume and job description**"
      ],
      "metadata": {
        "id": "TlW4Dq6x8s8z"
      }
    },
    {
      "cell_type": "code",
      "source": [
        "def calculate_similarity(resume_text, job_description_text):\n",
        "    vectorizer = TfidfVectorizer(tokenizer=tokenize_and_lemmatize)\n",
        "    tfidf_matrix = vectorizer.fit_transform([resume_text, job_description_text])\n",
        "    similarity_score = cosine_similarity(tfidf_matrix[0], tfidf_matrix[1])[0][0]\n",
        "    return similarity_score"
      ],
      "metadata": {
        "id": "ablWdyjVsF7o"
      },
      "execution_count": 7,
      "outputs": []
    },
    {
      "cell_type": "markdown",
      "source": [
        "**Uploading resume and job description**"
      ],
      "metadata": {
        "id": "gj1B-KQF9AdB"
      }
    },
    {
      "cell_type": "code",
      "source": [
        "resume_path = '/content/Resume.pdf'\n",
        "job_description_path = '/content/Job_description.txt'"
      ],
      "metadata": {
        "id": "INDpXF0qsLBA"
      },
      "execution_count": 8,
      "outputs": []
    },
    {
      "cell_type": "markdown",
      "source": [
        "**Using the extracting function to extract text from resume and job description**"
      ],
      "metadata": {
        "id": "HI9pe_uK9N09"
      }
    },
    {
      "cell_type": "code",
      "source": [
        "resume_text = extract_text_from_pdf(resume_path)\n",
        "job_description_text = open(job_description_path, 'r').read()"
      ],
      "metadata": {
        "id": "9LHS5U9FsXSl"
      },
      "execution_count": 9,
      "outputs": []
    },
    {
      "cell_type": "markdown",
      "source": [
        "**Using the cleaning function to clean text**"
      ],
      "metadata": {
        "id": "WbrUL94c9tVK"
      }
    },
    {
      "cell_type": "code",
      "source": [
        "resume_text_cleaned = clean_text(resume_text)\n",
        "job_description_text_cleaned = clean_text(job_description_text)"
      ],
      "metadata": {
        "id": "zJQDdbrKsZTu"
      },
      "execution_count": 10,
      "outputs": []
    },
    {
      "cell_type": "markdown",
      "source": [
        "**Printing out the cleaned version of resume and job description**"
      ],
      "metadata": {
        "id": "vfgwA7x7-HJL"
      }
    },
    {
      "cell_type": "code",
      "source": [
        "print(resume_text_cleaned)"
      ],
      "metadata": {
        "colab": {
          "base_uri": "https://localhost:8080/"
        },
        "id": "5pEEtiin4spe",
        "outputId": "79e46726-1a9c-4031-bdeb-80ef66cb245c"
      },
      "execution_count": 11,
      "outputs": [
        {
          "output_type": "stream",
          "name": "stdout",
          "text": [
            "Erick Kwete Selfmotivated hardworking and highly passionate Data scientist 10N Moi drive road Umoja 1 APT 17 Nairobi Kenya 254 717026758 mingakweteerickregmailcom httpsgithubcomkweteM wwwlinkedincominerickkwetea 91482166 EXPERIENCE Personal Projects Online Data Scientist JUNE 2021 PRESENT Dedicating hours daily to gain handson work experience through my personal data science projects REFUNITE Uganda Humanitarian Worker Team Leader MARCH 2017 PRESENT Working as an aid worker and the team leader of a team of call center specialists from a humanitarian NGO KenCall Kenya Customer service Representative AUGUST 2013 OCTOBER 2016 Making outbound and inbound calls to reconnect refugees across the world EDUCATION University of the People California USA Degree JUNE 2019 MAY 2023 University of the People Distance education university Bachelors degree Computer Science CGPA 285 SoloLearn Inc San Francisco Certicate JANUARY 2021 FEBRUARY 2021 Studied Machine Learning and Data Science Prospre Institute DRC High School Diploma SEPTEMBER 2001 JULY 2007 High School Diploma in Math Physics PROJECTS HARD SKILLS Python SQL Flask Streamlit Supervised Learning Unsupervised Learning Deep Learning Natural Language Processing Scikitlearn Tensorow PyTorch Keras NLTK spaCy SOFT SKILLS Time Management written and verbal communication Teamwork and collaboration Criticalthinking AWARDS LEADERSHIP From the humanitarian NGO Two times team leader of a call center specialists team and awarded as the best performer From the University Listed on the University Honors list of the year 20192020 of the students who maintained cumulative GPA of 300 to 349University LANGUAGES Resume Screening NLP Enabled to identify eciently needed skills through large quantities of applications Customer Segmentation KMeans Clustering Enabled supermarkets eciently to group customers based on their common characteristics Etc English French Swahili Lingala\n"
          ]
        }
      ]
    },
    {
      "cell_type": "code",
      "source": [
        "print(job_description_text_cleaned)"
      ],
      "metadata": {
        "colab": {
          "base_uri": "https://localhost:8080/"
        },
        "id": "M-E9pv4u48EZ",
        "outputId": "54679ccf-55bc-4771-b087-4c1fc59494ab"
      },
      "execution_count": 12,
      "outputs": [
        {
          "output_type": "stream",
          "name": "stdout",
          "text": [
            "JOB DESCRIPTIONS Data Scientist We are seeking a highly motivated and experienced Data Scientist to join our dynamic team The ideal candidate will have a strong background in data science with a proven track record of delivering impactful datadriven solutions Responsibilities include collaborating with crossfunctional teams to identify business opportunities analyzing large datasets developing predictive models and communicating insights to stakeholders The Data Scientist will be responsible for endtoend data science projects from data collection and preprocessing to model development and deployment They will leverage statistical modeling and machine learning techniques to extract insights and drive informed decisionmaking within the organization The successful candidate will have a solid understanding of programming languages such as Python or R and experience with data manipulation and analysis tools eg pandas NumPy They will possess a deep understanding of machine learning algorithms and techniques and proficiency in frameworks such as scikitlearn TensorFlow or PyTorch Requirements Bachelors or Masters degree in Computer Science Statistics Mathematics or a related field Minimum of 3 years of experience in data science or a related field with a track record of delivering datadriven solutions Proficiency in programming languages such as Python or R and experience with data manipulation and analysis tools Strong understanding of machine learning algorithms and techniques with handson experience in model development and evaluation Experience working with large datasets and extracting insights using statistical analysis and data visualization techniques Effective communication skills with the ability to convey complex technical concepts to nontechnical stakeholders Proven ability to work collaboratively in a fastpaced environment and manage multiple projects simultaneously This is an exciting opportunity to be part of a dynamic team and make a significant impact on our organizations datadriven strategy If you are passionate about leveraging data to drive business outcomes and thrive in a collaborative innovative environment we want to hear from you\n"
          ]
        }
      ]
    },
    {
      "cell_type": "markdown",
      "source": [
        "**Using the calculating function to calculate similarity between resume and job description and printing the result in percentage**"
      ],
      "metadata": {
        "id": "GYemwUwb-cQl"
      }
    },
    {
      "cell_type": "code",
      "source": [
        "similarity_score = calculate_similarity(resume_text_cleaned, job_description_text_cleaned)\n",
        "similarity_percentage = round(similarity_score * 100, 2)\n",
        "print(f\"Similarity Score: {similarity_percentage}%\")"
      ],
      "metadata": {
        "colab": {
          "base_uri": "https://localhost:8080/"
        },
        "id": "j3gqcAe3xXp9",
        "outputId": "8aa8c585-50b0-4f56-93b9-045752aa2364"
      },
      "execution_count": 13,
      "outputs": [
        {
          "output_type": "stream",
          "name": "stdout",
          "text": [
            "Similarity Score: 17.82%\n"
          ]
        },
        {
          "output_type": "stream",
          "name": "stderr",
          "text": [
            "/usr/local/lib/python3.10/dist-packages/sklearn/feature_extraction/text.py:528: UserWarning: The parameter 'token_pattern' will not be used since 'tokenizer' is not None'\n",
            "  warnings.warn(\n"
          ]
        }
      ]
    },
    {
      "cell_type": "markdown",
      "source": [
        "**Plotting the result**"
      ],
      "metadata": {
        "id": "OqOZbNRG-_cN"
      }
    },
    {
      "cell_type": "code",
      "source": [
        "labels = ['Resume', 'Job Description']\n",
        "scores = [similarity_score, 1 - similarity_score]\n",
        "\n",
        "plt.bar(['Resume', 'Job Description'], [similarity_score, 1], color=['blue', 'green'])\n",
        "plt.ylim(0, 1)\n",
        "plt.ylabel('Similarity Score')\n",
        "plt.title('Similarity between Resume and Job Description')\n",
        "plt.show()"
      ],
      "metadata": {
        "id": "4wGKb6vdkmzF",
        "colab": {
          "base_uri": "https://localhost:8080/",
          "height": 452
        },
        "outputId": "e769aa80-1666-43e1-f02d-c9ace54cb5ed"
      },
      "execution_count": 15,
      "outputs": [
        {
          "output_type": "display_data",
          "data": {
            "text/plain": [
              "<Figure size 640x480 with 1 Axes>"
            ],
            "image/png": "[encoded data removed]"
          },
          "metadata": {}
        }
      ]
    },
    {
      "cell_type": "markdown",
      "source": [
        "**Saving the model**"
      ],
      "metadata": {
        "id": "D-fkFhel_WUU"
      }
    },
    {
      "cell_type": "code",
      "source": [
        "model_filename = 'resume_scanner_model.pkl'\n",
        "joblib.dump(similarity_score, model_filename)\n",
        "print(f\"Model saved as {model_filename}\")"
      ],
      "metadata": {
        "id": "TFdfC_DdyIU7",
        "colab": {
          "base_uri": "https://localhost:8080/"
        },
        "outputId": "08859984-07bd-46cb-d2fa-3884244e96c3"
      },
      "execution_count": 16,
      "outputs": [
        {
          "output_type": "stream",
          "name": "stdout",
          "text": [
            "Model saved as resume_scanner_model.pkl\n"
          ]
        }
      ]
    }
  ]
}